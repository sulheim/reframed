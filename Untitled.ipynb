{
 "cells": [
  {
   "cell_type": "code",
   "execution_count": 1,
   "id": "05b50043-5097-468a-8c98-7130594b9130",
   "metadata": {},
   "outputs": [],
   "source": [
    "import reframed\n",
    "from pathlib import Path\n",
    "import libsbml as sb\n",
    "import re\n"
   ]
  },
  {
   "cell_type": "code",
   "execution_count": 2,
   "id": "4b4e729f-402d-4328-9c33-1b8ac9dccf5c",
   "metadata": {},
   "outputs": [],
   "source": [
    "from enum import Enum\n",
    "class Flavor(Enum):\n",
    "    COBRA = 'cobra'  # legacy cobra format\n",
    "    UCSD = 'ucsd'  # legacy cobra format with BiGG notation\n",
    "    FBC2 = 'fbc2'  # sbml-fbc2 format\n",
    "    BIGG = 'bigg'  # fbc2 with BiGG notation"
   ]
  },
  {
   "cell_type": "code",
   "execution_count": 12,
   "id": "d8d13e62-63eb-4595-bb5e-b726bef4283d",
   "metadata": {
    "tags": []
   },
   "outputs": [],
   "source": [
    "DEFAULT_SBML_LEVEL = 3\n",
    "DEFAULT_SBML_VERSION = 1\n",
    "\n",
    "IDENTIFIERS_PATTERN = re.compile(r'/([^/]+)/([^/]+)$')\n",
    "def save_cbmodel(model, filename, flavor=Flavor.FBC2.value):\n",
    "    \"\"\" Save a constraint-based model to an SBML file.\n",
    "\n",
    "    Arguments:\n",
    "        model (Model): model\n",
    "        filename (str): file path\n",
    "        flavor (str): (optional, currently available: 'cobra', 'fbc2', 'bigg')\n",
    "    \"\"\"\n",
    "\n",
    "    document = sb.SBMLDocument(DEFAULT_SBML_LEVEL, DEFAULT_SBML_VERSION)\n",
    "    sbml_model = document.createModel(model.id)\n",
    "\n",
    "    if flavor in {Flavor.BIGG.value, Flavor.FBC2.value}:\n",
    "        document.enablePackage(sb.FbcExtension.getXmlnsL3V1V2(), 'fbc', True)\n",
    "        fbc_model = sbml_model.getPlugin('fbc')\n",
    "        fbc_model.setStrict(True)\n",
    "        document.setPackageRequired('fbc', False)\n",
    "\n",
    "    save_compartments(model, sbml_model)\n",
    "    save_metabolites(model, sbml_model, flavor)\n",
    "    save_reactions(model, sbml_model)\n",
    "    save_cb_parameters(model, sbml_model, flavor)\n",
    "    save_gpr_associations(model, sbml_model, flavor)\n",
    "\n",
    "    save_metadata(model, sbml_model)\n",
    "    writer = sb.SBMLWriter()\n",
    "    writer.writeSBML(document, filename)\n",
    "    return document, sbml_model"
   ]
  },
  {
   "cell_type": "code",
   "execution_count": 3,
   "id": "022540e0-1011-41d9-a654-c20751f5fcd5",
   "metadata": {},
   "outputs": [],
   "source": [
    "repo_path = Path('/Users/ssulheim/git/mwf_gems')\n",
    "\n",
    "gapfilling_data_folder = repo_path / 'gapfilling_data'\n",
    "bigg_universe_fn = gapfilling_data_folder / 'universe_bacteria.xml'#'bigg_universe.xml'\n"
   ]
  },
  {
   "cell_type": "code",
   "execution_count": 4,
   "id": "b808b984-a4e5-4658-abc7-b61c448fddcf",
   "metadata": {},
   "outputs": [],
   "source": [
    "universe = reframed.load_cbmodel(bigg_universe_fn)"
   ]
  },
  {
   "cell_type": "code",
   "execution_count": 5,
   "id": "e3d90f33-00a2-4767-b2cd-cc69b24554ae",
   "metadata": {},
   "outputs": [
    {
     "data": {
      "text/plain": [
       "OrderedDict([('SBOTerm', 'SBO:0000176'),\n",
       "             ('ec-code', ['2.6.1.19']),\n",
       "             ('rhea', ['23352', '23353', '23354', '23355']),\n",
       "             ('biocyc', ['META:GABATRANSAM-RXN']),\n",
       "             ('metanetx.reaction', ['MNXR95186']),\n",
       "             ('kegg.reaction', ['R01648']),\n",
       "             ('seed.reaction', ['rxn01204'])])"
      ]
     },
     "execution_count": 5,
     "metadata": {},
     "output_type": "execute_result"
    }
   ],
   "source": [
    "universe.reactions.R_ABTA.metadata\n"
   ]
  },
  {
   "cell_type": "code",
   "execution_count": 6,
   "id": "1a44ab63-08f5-496a-8cd0-23a5dd2bde9b",
   "metadata": {
    "tags": []
   },
   "outputs": [],
   "source": [
    "reframed.save_cbmodel(universe, 'test.xml')"
   ]
  },
  {
   "cell_type": "code",
   "execution_count": 39,
   "id": "775928ca-48ca-4d62-90ef-0b4210252c11",
   "metadata": {
    "tags": []
   },
   "outputs": [],
   "source": [
    "URL_IDENTIFIERS_PREFIX = \"https://identifiers.org\"\n",
    "\n",
    "save_metadata(universe.reactions.R_ABTA, r)"
   ]
  },
  {
   "cell_type": "code",
   "execution_count": 40,
   "id": "daa82889-e2cf-4267-9382-7d1c250580c1",
   "metadata": {
    "tags": []
   },
   "outputs": [
    {
     "data": {
      "text/plain": [
       "0"
      ]
     },
     "execution_count": 40,
     "metadata": {},
     "output_type": "execute_result"
    }
   ],
   "source": [
    "r.getNumCVTerms()"
   ]
  },
  {
   "cell_type": "code",
   "execution_count": 43,
   "id": "48a3ed68-d386-4da3-a5d0-2a2fc65027e9",
   "metadata": {
    "tags": []
   },
   "outputs": [],
   "source": [
    "# def save_metadata(elem, sbml_elem):\n",
    "# sbml_elem.setMetaId(elem.id)\n",
    "elem = universe.reactions.R_ABTA\n",
    "sbml_elem = sbml_model.getElementBySId('R_ABTA')\n",
    "\n",
    "note_keys = ['CHARGE', 'FORMULA']\n",
    "notes_dict = {}\n",
    "\n"
   ]
  },
  {
   "cell_type": "code",
   "execution_count": 49,
   "id": "92085742-e7eb-428d-b229-4ab8079dfce0",
   "metadata": {
    "tags": []
   },
   "outputs": [
    {
     "name": "stdout",
     "output_type": "stream",
     "text": [
      "ec-code 2.6.1.19\n",
      "rhea 23352\n",
      "rhea 23353\n",
      "rhea 23354\n",
      "rhea 23355\n",
      "biocyc META:GABATRANSAM-RXN\n",
      "metanetx.reaction MNXR95186\n",
      "kegg.reaction R01648\n",
      "seed.reaction rxn01204\n"
     ]
    }
   ],
   "source": [
    "\n",
    "if elem.metadata:\n",
    "    for key, annotations in elem.metadata.items():\n",
    "        if key == 'SBOTerm':\n",
    "            sbml_elem.setSBOTerm(annotations)\n",
    "        elif key in note_keys:\n",
    "            notes_dict[key] = annotations\n",
    "        elif key == 'XMLAnnotation':\n",
    "            continue\n",
    "        else:\n",
    "            # Assume this is an annotation\n",
    "            if not isinstance(annotations, list):\n",
    "                annotations = [annotations]\n",
    "            for annotation in annotations:\n",
    "                print(key, annotation)\n",
    "                cv = sb.CVTerm()\n",
    "                cv.setQualifierType(sb.BIOLOGICAL_QUALIFIER)\n",
    "                cv.setBiologicalQualifierType(sb.BQB_IS)\n",
    "                annotation_string = f\"{URL_IDENTIFIERS_PREFIX}/{key}/{annotation}\"\n",
    "                cv.addResource(annotation_string)\n",
    "                sbml_elem.addCVTerm(cv)\n",
    "                # print(elem.id, 'Added: ', annotation_string)"
   ]
  },
  {
   "cell_type": "code",
   "execution_count": 69,
   "id": "14c2ade8-d49b-445d-bed8-3809e85d98dd",
   "metadata": {
    "tags": []
   },
   "outputs": [
    {
     "data": {
      "text/plain": [
       "'The requested action cannot be performed as the target object does not have the metaid attribute set.'"
      ]
     },
     "execution_count": 69,
     "metadata": {},
     "output_type": "execute_result"
    }
   ],
   "source": [
    "value = sbml_elem.addCVTerm(cv)\n",
    "sb.OperationReturnValue_toString(value).strip()"
   ]
  },
  {
   "cell_type": "code",
   "execution_count": 54,
   "id": "92f4755b-811e-4136-8a23-ececf5344b04",
   "metadata": {
    "tags": []
   },
   "outputs": [],
   "source": [
    "value = cv.addResource(annotation_string)"
   ]
  },
  {
   "cell_type": "code",
   "execution_count": 7,
   "id": "39c6de67-8fec-4226-b596-2e5c4d4596f0",
   "metadata": {
    "tags": []
   },
   "outputs": [],
   "source": [
    "# reframed.io.sbml.save_cbmodel(universe, 'test.xml')"
   ]
  },
  {
   "cell_type": "code",
   "execution_count": 8,
   "id": "69b5a863-cd10-44eb-8418-880ef6ca8f97",
   "metadata": {
    "tags": []
   },
   "outputs": [],
   "source": [
    "import cobra"
   ]
  },
  {
   "cell_type": "code",
   "execution_count": 9,
   "id": "1c42bcac-3c3d-46e1-a6e6-108f4342a289",
   "metadata": {
    "tags": []
   },
   "outputs": [
    {
     "name": "stdout",
     "output_type": "stream",
     "text": [
      "Set parameter Username\n",
      "Academic license - for non-commercial use only - expires 2024-02-26\n"
     ]
    }
   ],
   "source": [
    "test = cobra.io.read_sbml_model('test.xml')"
   ]
  },
  {
   "cell_type": "code",
   "execution_count": 10,
   "id": "f314accd-a1aa-4189-9fc9-c09db95b481a",
   "metadata": {
    "tags": []
   },
   "outputs": [
    {
     "data": {
      "text/plain": [
       "{'sbo': 'SBO:0000176',\n",
       " 'rhea': ['15897', '15898', '15899', '15900'],\n",
       " 'ec-code': '3.5.1.63',\n",
       " 'biocyc': 'META:RXN-36',\n",
       " 'metanetx.reaction': 'MNXR95134',\n",
       " 'kegg.reaction': 'R01987',\n",
       " 'seed.reaction': 'rxn01460'}"
      ]
     },
     "execution_count": 10,
     "metadata": {},
     "output_type": "execute_result"
    }
   ],
   "source": [
    "test.reactions.AABTN.annotation"
   ]
  },
  {
   "cell_type": "code",
   "execution_count": 10,
   "id": "139c436d-35db-4244-a930-aa3b0fc4b19d",
   "metadata": {
    "tags": []
   },
   "outputs": [
    {
     "data": {
      "text/plain": [
       "OrderedDict([('SBOTerm', 'SBO:0000176'),\n",
       "             ('rhea', ['15897', '15898', '15899', '15900']),\n",
       "             ('ec-code', ['3.5.1.63']),\n",
       "             ('biocyc', ['META:RXN-36']),\n",
       "             ('metanetx.reaction', ['MNXR95134']),\n",
       "             ('kegg.reaction', ['R01987']),\n",
       "             ('seed.reaction', ['rxn01460'])])"
      ]
     },
     "execution_count": 10,
     "metadata": {},
     "output_type": "execute_result"
    }
   ],
   "source": [
    "universe.reactions.R_AABTN.metadata"
   ]
  },
  {
   "cell_type": "code",
   "execution_count": 20,
   "id": "0c9b21f2-6cb1-48f4-8af1-4f4b8b0a3e26",
   "metadata": {
    "tags": []
   },
   "outputs": [
    {
     "ename": "NameError",
     "evalue": "name 'save_metadata' is not defined",
     "output_type": "error",
     "traceback": [
      "\u001b[0;31m---------------------------------------------------------------------------\u001b[0m",
      "\u001b[0;31mNameError\u001b[0m                                 Traceback (most recent call last)",
      "Cell \u001b[0;32mIn[20], line 23\u001b[0m\n\u001b[1;32m     20\u001b[0m         \u001b[38;5;28;01mexcept\u001b[39;00m:\n\u001b[1;32m     21\u001b[0m             \u001b[38;5;28;01mpass\u001b[39;00m\n\u001b[0;32m---> 23\u001b[0m save_metadata(metabolite, species)\n",
      "\u001b[0;31mNameError\u001b[0m: name 'save_metadata' is not defined"
     ]
    }
   ],
   "source": [
    "for metabolite in model.metabolites.values():\n",
    "    species = sbml_model.createSpecies()\n",
    "    species.setId(metabolite.id)\n",
    "    species.setName(metabolite.name)\n",
    "    species.setCompartment(metabolite.compartment)\n",
    "    species.setHasOnlySubstanceUnits(True)\n",
    "\n",
    "    if flavor in {Flavor.BIGG.value, Flavor.FBC2.value}:\n",
    "        fbc_species = species.getPlugin('fbc')\n",
    "\n",
    "        if 'FORMULA' in metabolite.metadata:\n",
    "            try:\n",
    "                fbc_species.setChemicalFormula(metabolite.metadata['FORMULA'])\n",
    "            except:\n",
    "                pass\n",
    "        if 'CHARGE' in metabolite.metadata:\n",
    "            try:\n",
    "                charge = int(metabolite.metadata['CHARGE'])\n",
    "                fbc_species.setCharge(charge)\n",
    "            except:\n",
    "                pass\n",
    "\n",
    "    save_metadata(metabolite, species)"
   ]
  },
  {
   "cell_type": "code",
   "execution_count": 22,
   "id": "8f2bf330-1399-4e66-a900-c1c0c05b7d41",
   "metadata": {
    "tags": []
   },
   "outputs": [],
   "source": [
    "cv = sb.CVTerm()"
   ]
  },
  {
   "cell_type": "code",
   "execution_count": 23,
   "id": "f457a2c0-1950-46d3-8f24-56c710a7954a",
   "metadata": {
    "tags": []
   },
   "outputs": [
    {
     "data": {
      "text/plain": [
       "-4"
      ]
     },
     "execution_count": 23,
     "metadata": {},
     "output_type": "execute_result"
    }
   ],
   "source": [
    "cv.setBiologicalQualifierType(sb.BQB_IS)\n",
    "URL_IDENTIFIERS_PREFIX = \"https://identifiers.org\"\n",
    "annotation_string = f\"{URL_IDENTIFIERS_PREFIX}/{provider}/{entity}\"\n",
    "cv.addResource(annotation_string)\n",
    "sbml_model.addCVTerm"
   ]
  },
  {
   "cell_type": "code",
   "execution_count": 7,
   "id": "69163215-9ef8-453b-9564-cdec33b18f12",
   "metadata": {},
   "outputs": [],
   "source": [
    "m = universe.metabolites.M_glc__D_c"
   ]
  },
  {
   "cell_type": "code",
   "execution_count": null,
   "id": "e381027b-8884-4db7-9eb5-f3a856100dc6",
   "metadata": {},
   "outputs": [],
   "source": [
    "reframed.io.sbml."
   ]
  },
  {
   "cell_type": "code",
   "execution_count": 8,
   "id": "491bbff8-70e2-419f-a530-e26ecbaf5f1f",
   "metadata": {},
   "outputs": [
    {
     "data": {
      "text/plain": [
       "OrderedDict([('FORMULA', 'C6H12O6'),\n",
       "             ('CHARGE', '0'),\n",
       "             ('SBOTerm', 'SBO:0000247'),\n",
       "             ('kegg.compound', ['C00031']),\n",
       "             ('chebi',\n",
       "              ['CHEBI:12965', 'CHEBI:17634', 'CHEBI:20999', 'CHEBI:4167']),\n",
       "             ('kegg.drug', ['D00009']),\n",
       "             ('hmdb', ['HMDB00122', 'HMDB06564']),\n",
       "             ('biocyc', ['META:Glucopyranose']),\n",
       "             ('metanetx.chemical', ['MNXM41']),\n",
       "             ('inchikey', ['WQZGKKKJIJFFOK-GASJEMHNSA-N']),\n",
       "             ('seed.compound', ['cpd00027', 'cpd26821'])])"
      ]
     },
     "execution_count": 8,
     "metadata": {},
     "output_type": "execute_result"
    }
   ],
   "source": [
    "m.metadata"
   ]
  },
  {
   "cell_type": "code",
   "execution_count": 6,
   "id": "416493d7-8e1c-4207-b20a-a42c3611e247",
   "metadata": {},
   "outputs": [
    {
     "ename": "NameError",
     "evalue": "name 'sbml_model' is not defined",
     "output_type": "error",
     "traceback": [
      "\u001b[0;31m---------------------------------------------------------------------------\u001b[0m",
      "\u001b[0;31mNameError\u001b[0m                                 Traceback (most recent call last)",
      "Cell \u001b[0;32mIn[6], line 1\u001b[0m\n\u001b[0;32m----> 1\u001b[0m species \u001b[38;5;241m=\u001b[39m sbml_model\u001b[38;5;241m.\u001b[39mcreateSpecies()\n",
      "\u001b[0;31mNameError\u001b[0m: name 'sbml_model' is not defined"
     ]
    }
   ],
   "source": [
    "species = sbml_model.createSpecies()"
   ]
  },
  {
   "cell_type": "code",
   "execution_count": 12,
   "id": "07cffa0a-c0e3-4407-852f-63c9eb185dc4",
   "metadata": {},
   "outputs": [
    {
     "data": {
      "text/plain": [
       "AttrOrderedDict()"
      ]
     },
     "execution_count": 12,
     "metadata": {},
     "output_type": "execute_result"
    }
   ],
   "source": [
    "universe.genes"
   ]
  }
 ],
 "metadata": {
  "kernelspec": {
   "display_name": "Python 3 (ipykernel)",
   "language": "python",
   "name": "python3"
  },
  "language_info": {
   "codemirror_mode": {
    "name": "ipython",
    "version": 3
   },
   "file_extension": ".py",
   "mimetype": "text/x-python",
   "name": "python",
   "nbconvert_exporter": "python",
   "pygments_lexer": "ipython3",
   "version": "3.11.5"
  }
 },
 "nbformat": 4,
 "nbformat_minor": 5
}
